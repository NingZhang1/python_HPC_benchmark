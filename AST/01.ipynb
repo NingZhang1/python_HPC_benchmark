{
 "cells": [
  {
   "cell_type": "code",
   "execution_count": 5,
   "metadata": {},
   "outputs": [],
   "source": [
    "import ast\n",
    "import inspect"
   ]
  },
  {
   "cell_type": "code",
   "execution_count": 6,
   "metadata": {},
   "outputs": [],
   "source": [
    "class FunctionAnalyzer(ast.NodeVisitor):\n",
    "    def __init__(self):\n",
    "        self.function_calls = []\n",
    "        self.variables = []\n",
    "        self.assignments = []\n",
    "\n",
    "    def visit_Call(self, node):\n",
    "        if isinstance(node.func, ast.Name):\n",
    "            self.function_calls.append(node.func.id)\n",
    "        self.generic_visit(node)\n",
    "\n",
    "    def visit_Name(self, node):\n",
    "        if isinstance(node.ctx, ast.Store):\n",
    "            self.variables.append(node.id)\n",
    "        self.generic_visit(node)\n",
    "\n",
    "    def visit_Assign(self, node):\n",
    "        for target in node.targets:\n",
    "            if isinstance(target, ast.Name):\n",
    "                self.assignments.append((target.id, ast.unparse(node.value)))\n",
    "        self.generic_visit(node)"
   ]
  },
  {
   "cell_type": "code",
   "execution_count": 7,
   "metadata": {},
   "outputs": [],
   "source": [
    "def parse_function(func):\n",
    "    \"\"\"\n",
    "    Parses a given function using the ast module.\n",
    "    \n",
    "    :param func: The function to parse\n",
    "    :return: A dictionary containing information about the function\n",
    "    \"\"\"\n",
    "    # Get the source code of the function\n",
    "    source = inspect.getsource(func)\n",
    "    \n",
    "    # Parse the source code into an AST\n",
    "    tree = ast.parse(source)\n",
    "    \n",
    "    # Find the function definition node\n",
    "    function_def = next((node for node in ast.walk(tree) if isinstance(node, ast.FunctionDef)), None)\n",
    "    \n",
    "    if function_def is None:\n",
    "        raise ValueError(\"Could not find function definition in the provided source\")\n",
    "    \n",
    "    # Analyze the function\n",
    "    analyzer = FunctionAnalyzer()\n",
    "    analyzer.visit(function_def)\n",
    "    \n",
    "    # Extract information\n",
    "    args = [arg.arg for arg in function_def.args.args]\n",
    "    docstring = ast.get_docstring(function_def)\n",
    "    \n",
    "    return {\n",
    "        \"name\": function_def.name,\n",
    "        \"args\": args,\n",
    "        \"docstring\": docstring,\n",
    "        \"function_calls\": analyzer.function_calls,\n",
    "        \"variables\": analyzer.variables,\n",
    "        \"assignments\": analyzer.assignments,\n",
    "    }"
   ]
  },
  {
   "cell_type": "code",
   "execution_count": 8,
   "metadata": {},
   "outputs": [
    {
     "name": "stdout",
     "output_type": "stream",
     "text": [
      "Function Analysis Result:\n",
      "name: example_function\n",
      "args: ['a', 'b']\n",
      "docstring: This is an example function.\n",
      "function_calls: ['range', 'sum']\n",
      "variables: ['x', 'y', 'i', 'i']\n",
      "assignments: [('x', 'a + b'), ('y', '[i for i in range(10)]'), ('i', '7')]\n"
     ]
    }
   ],
   "source": [
    "# Example usage\n",
    "def example_function(a, b):\n",
    "    \"\"\"This is an example function.\"\"\"\n",
    "    x = a + b\n",
    "    y = [i for i in range(10)]\n",
    "    i = 7\n",
    "    return sum(y) + x\n",
    "\n",
    "result = parse_function(example_function)\n",
    "\n",
    "print(\"Function Analysis Result:\")\n",
    "for key, value in result.items():\n",
    "    print(f\"{key}: {value}\")"
   ]
  }
 ],
 "metadata": {
  "kernelspec": {
   "display_name": "pyscf_isdf",
   "language": "python",
   "name": "python3"
  },
  "language_info": {
   "codemirror_mode": {
    "name": "ipython",
    "version": 3
   },
   "file_extension": ".py",
   "mimetype": "text/x-python",
   "name": "python",
   "nbconvert_exporter": "python",
   "pygments_lexer": "ipython3",
   "version": "3.10.13"
  }
 },
 "nbformat": 4,
 "nbformat_minor": 2
}
