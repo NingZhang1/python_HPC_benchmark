{
 "cells": [
  {
   "cell_type": "code",
   "execution_count": null,
   "metadata": {},
   "outputs": [
    {
     "name": "stdout",
     "output_type": "stream",
     "text": [
      "Module(\n",
      "    body=[\n",
      "        FunctionDef(\n",
      "            name='add',\n",
      "            args=arguments(\n",
      "                posonlyargs=[],\n",
      "                args=[],\n",
      "                kwonlyargs=[],\n",
      "                kw_defaults=[],\n",
      "                defaults=[]),\n",
      "            body=[\n",
      "                Expr(\n",
      "                    value=Call(\n",
      "                        func=Name(id='print', ctx=Load()),\n",
      "                        args=[\n",
      "                            Constant(value='add')],\n",
      "                        keywords=[]))],\n",
      "            decorator_list=[\n",
      "                Call(\n",
      "                    func=Name(id='jit', ctx=Load()),\n",
      "                    args=[],\n",
      "                    keywords=[\n",
      "                        keyword(\n",
      "                            arg='target',\n",
      "                            value=Constant(value='cpu'))])])],\n",
      "    type_ignores=[])\n",
      "Visit Module\n",
      "Visit FunctionDef\n",
      "Visit arguments\n",
      "Visit Expr\n",
      "Visit Call\n",
      "Visit Name\n",
      "Visit Load\n",
      "Visit Constant\n",
      "Visit Call\n",
      "Visit Name\n",
      "Visit Load\n",
      "Visit keyword\n",
      "Visit Constant\n"
     ]
    }
   ],
   "source": [
    "import inspect\n",
    "import ast\n",
    "\n",
    "def jit(target=\"cpu\"):\n",
    "    assert target in [\"cpu\", \"gpu\"]\n",
    "    def inner(fn):\n",
    "        return JIT(fn, target=target)\n",
    "    return inner\n",
    "\n",
    "class JIT:\n",
    "    def __init__(self, fn, target=\"cpu\"):\n",
    "        self.fn = fn\n",
    "        self.target = target\n",
    "    \n",
    "    def __call__(self, *args, **kwargs):\n",
    "        fn_src = inspect.getsource(self.fn)\n",
    "        fn_ast = ast.parse(fn_src)\n",
    "        print(ast.dump(fn_ast, indent=4))\n",
    "        code_generator = CodeGenerator(fn_ast, self.target)\n",
    "        code_generator.code_gen()\n",
    "\n",
    "class CodeGenerator(ast.NodeVisitor):\n",
    "    def __init__(self, fn_ast, target):\n",
    "        self.fn_ast = fn_ast\n",
    "        self.target = target\n",
    "    \n",
    "    def code_gen(self):\n",
    "        self.visit(self.fn_ast)\n",
    "\n",
    "    def visit(self, node):\n",
    "        print(\"Visit \" + node.__class__.__name__)\n",
    "        return super().visit(node)\n",
    "\n",
    "\n",
    "@jit(target=\"cpu\")\n",
    "def add():\n",
    "    print(\"add\")\n",
    "\n",
    "add()"
   ]
  },
  {
   "cell_type": "markdown",
   "metadata": {},
   "source": [
    "编译器核心的思想：编译 AST 突出对应的高层级的 IR. "
   ]
  }
 ],
 "metadata": {
  "kernelspec": {
   "display_name": "pyscf_isdf",
   "language": "python",
   "name": "python3"
  },
  "language_info": {
   "codemirror_mode": {
    "name": "ipython",
    "version": 3
   },
   "file_extension": ".py",
   "mimetype": "text/x-python",
   "name": "python",
   "nbconvert_exporter": "python",
   "pygments_lexer": "ipython3",
   "version": "3.10.13"
  }
 },
 "nbformat": 4,
 "nbformat_minor": 2
}
