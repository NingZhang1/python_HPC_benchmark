{
 "cells": [
  {
   "cell_type": "code",
   "execution_count": 41,
   "metadata": {},
   "outputs": [],
   "source": [
    "import numpy\n",
    "import ast\n",
    "import inspect"
   ]
  },
  {
   "cell_type": "code",
   "execution_count": null,
   "metadata": {},
   "outputs": [],
   "source": []
  },
  {
   "cell_type": "code",
   "execution_count": 42,
   "metadata": {},
   "outputs": [],
   "source": [
    "def func2(a, b, c):\n",
    "    return None\n",
    "\n",
    "def func1(myobj, n, m, f=10):\n",
    "    a = numpy.random.rand(n, m)\n",
    "    b = numpy.random.rand(n, m)\n",
    "    c = myobj.sum(a, b)\n",
    "    e = [i for i in range(n)]\n",
    "    d = func2(a, b, c)\n",
    "    return d"
   ]
  },
  {
   "cell_type": "code",
   "execution_count": 43,
   "metadata": {},
   "outputs": [
    {
     "name": "stdout",
     "output_type": "stream",
     "text": [
      "<code object func1 at 0x7f0165138500, file \"/tmp/ipykernel_310025/2966291400.py\", line 4>\n"
     ]
    }
   ],
   "source": [
    "print(func1.__code__)"
   ]
  },
  {
   "cell_type": "code",
   "execution_count": 44,
   "metadata": {},
   "outputs": [],
   "source": [
    "def human_readable_ast(node, indent=\"\", prefix=\"\"):\n",
    "    \"\"\"\n",
    "    Recursively traverses an AST and returns a human-readable string representation.\n",
    "    \n",
    "    :param node: The AST node to process\n",
    "    :param indent: The current indentation level (for recursive calls)\n",
    "    :param prefix: A prefix to add before the node (for recursive calls)\n",
    "    :return: A string representation of the AST\n",
    "    \"\"\"\n",
    "    if isinstance(node, ast.AST):\n",
    "        node_name = node.__class__.__name__\n",
    "        fields = []\n",
    "        for name, value in ast.iter_fields(node):\n",
    "            if isinstance(value, list):\n",
    "                fields.append(f\"{name}=[\")\n",
    "                for item in value:\n",
    "                    fields.append(human_readable_ast(item, indent + \"  \", \"\"))\n",
    "                fields.append(\"]\")\n",
    "            elif isinstance(value, ast.AST):\n",
    "                fields.append(f\"{name}=\")\n",
    "                fields.append(human_readable_ast(value, indent + \"  \", \"\"))\n",
    "            else:\n",
    "                fields.append(f\"{name}={repr(value)}\")\n",
    "        \n",
    "        if fields:\n",
    "            return f\"{indent}{prefix}{node_name}(\\n\" + \",\\n\".join(fields) + f\"\\n{indent})\"\n",
    "        return f\"{indent}{prefix}{node_name}()\"\n",
    "    elif isinstance(node, list):\n",
    "        return \",\\n\".join(human_readable_ast(x, indent, prefix) for x in node)\n",
    "    else:\n",
    "        return repr(node)"
   ]
  },
  {
   "cell_type": "code",
   "execution_count": 45,
   "metadata": {},
   "outputs": [
    {
     "name": "stdout",
     "output_type": "stream",
     "text": [
      "Module(\n",
      "    body=[\n",
      "        FunctionDef(\n",
      "            name='func1',\n",
      "            args=arguments(\n",
      "                posonlyargs=[],\n",
      "                args=[\n",
      "                    arg(arg='myobj'),\n",
      "                    arg(arg='n'),\n",
      "                    arg(arg='m'),\n",
      "                    arg(arg='f')],\n",
      "                kwonlyargs=[],\n",
      "                kw_defaults=[],\n",
      "                defaults=[\n",
      "                    Constant(value=10)]),\n",
      "            body=[\n",
      "                Assign(\n",
      "                    targets=[\n",
      "                        Name(id='a', ctx=Store())],\n",
      "                    value=Call(\n",
      "                        func=Attribute(\n",
      "                            value=Attribute(\n",
      "                                value=Name(id='numpy', ctx=Load()),\n",
      "                                attr='random',\n",
      "                                ctx=Load()),\n",
      "                            attr='rand',\n",
      "                            ctx=Load()),\n",
      "                        args=[\n",
      "                            Name(id='n', ctx=Load()),\n",
      "                            Name(id='m', ctx=Load())],\n",
      "                        keywords=[])),\n",
      "                Assign(\n",
      "                    targets=[\n",
      "                        Name(id='b', ctx=Store())],\n",
      "                    value=Call(\n",
      "                        func=Attribute(\n",
      "                            value=Attribute(\n",
      "                                value=Name(id='numpy', ctx=Load()),\n",
      "                                attr='random',\n",
      "                                ctx=Load()),\n",
      "                            attr='rand',\n",
      "                            ctx=Load()),\n",
      "                        args=[\n",
      "                            Name(id='n', ctx=Load()),\n",
      "                            Name(id='m', ctx=Load())],\n",
      "                        keywords=[])),\n",
      "                Assign(\n",
      "                    targets=[\n",
      "                        Name(id='c', ctx=Store())],\n",
      "                    value=Call(\n",
      "                        func=Attribute(\n",
      "                            value=Name(id='myobj', ctx=Load()),\n",
      "                            attr='sum',\n",
      "                            ctx=Load()),\n",
      "                        args=[\n",
      "                            Name(id='a', ctx=Load()),\n",
      "                            Name(id='b', ctx=Load())],\n",
      "                        keywords=[])),\n",
      "                Assign(\n",
      "                    targets=[\n",
      "                        Name(id='e', ctx=Store())],\n",
      "                    value=ListComp(\n",
      "                        elt=Name(id='i', ctx=Load()),\n",
      "                        generators=[\n",
      "                            comprehension(\n",
      "                                target=Name(id='i', ctx=Store()),\n",
      "                                iter=Call(\n",
      "                                    func=Name(id='range', ctx=Load()),\n",
      "                                    args=[\n",
      "                                        Name(id='n', ctx=Load())],\n",
      "                                    keywords=[]),\n",
      "                                ifs=[],\n",
      "                                is_async=0)])),\n",
      "                Assign(\n",
      "                    targets=[\n",
      "                        Name(id='d', ctx=Store())],\n",
      "                    value=Call(\n",
      "                        func=Name(id='func2', ctx=Load()),\n",
      "                        args=[\n",
      "                            Name(id='a', ctx=Load()),\n",
      "                            Name(id='b', ctx=Load()),\n",
      "                            Name(id='c', ctx=Load())],\n",
      "                        keywords=[])),\n",
      "                Return(\n",
      "                    value=Name(id='d', ctx=Load()))],\n",
      "            decorator_list=[])],\n",
      "    type_ignores=[])\n"
     ]
    }
   ],
   "source": [
    "tree = ast.parse(inspect.getsource(func1))\n",
    "# print(human_readable_ast(tree))\n",
    "print(ast.dump(tree, indent=4))"
   ]
  }
 ],
 "metadata": {
  "kernelspec": {
   "display_name": "pyscf_isdf",
   "language": "python",
   "name": "python3"
  },
  "language_info": {
   "codemirror_mode": {
    "name": "ipython",
    "version": 3
   },
   "file_extension": ".py",
   "mimetype": "text/x-python",
   "name": "python",
   "nbconvert_exporter": "python",
   "pygments_lexer": "ipython3",
   "version": "3.10.13"
  }
 },
 "nbformat": 4,
 "nbformat_minor": 2
}
