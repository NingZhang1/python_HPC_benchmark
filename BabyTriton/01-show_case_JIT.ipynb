{
 "cells": [
  {
   "cell_type": "code",
   "execution_count": 1,
   "metadata": {},
   "outputs": [
    {
     "name": "stdout",
     "output_type": "stream",
     "text": [
      "jit is called\n"
     ]
    }
   ],
   "source": [
    "def add():\n",
    "    print(\"add\")\n",
    "\n",
    "def jit(fn):\n",
    "    def inner():\n",
    "        print(\"jit is called\")\n",
    "    return inner\n",
    "\n",
    "@jit\n",
    "def add():\n",
    "    print(\"add\") # never called ! why JIT ! \n",
    "\n",
    "add()"
   ]
  }
 ],
 "metadata": {
  "kernelspec": {
   "display_name": "pyscf_isdf",
   "language": "python",
   "name": "python3"
  },
  "language_info": {
   "codemirror_mode": {
    "name": "ipython",
    "version": 3
   },
   "file_extension": ".py",
   "mimetype": "text/x-python",
   "name": "python",
   "nbconvert_exporter": "python",
   "pygments_lexer": "ipython3",
   "version": "3.10.13"
  }
 },
 "nbformat": 4,
 "nbformat_minor": 2
}
